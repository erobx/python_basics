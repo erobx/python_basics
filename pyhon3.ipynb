{
  "nbformat": 4,
  "nbformat_minor": 0,
  "metadata": {
    "colab": {
      "name": "pyhon3.ipynb",
      "provenance": [],
      "toc_visible": true,
      "collapsed_sections": [],
      "include_colab_link": true
    },
    "kernelspec": {
      "name": "python3",
      "display_name": "Python 3"
    },
    "language_info": {
      "name": "python"
    }
  },
  "cells": [
    {
      "cell_type": "markdown",
      "metadata": {
        "id": "view-in-github",
        "colab_type": "text"
      },
      "source": [
        "<a href=\"https://colab.research.google.com/github/erobx/python_basics/blob/main/pyhon3.ipynb\" target=\"_parent\"><img src=\"https://colab.research.google.com/assets/colab-badge.svg\" alt=\"Open In Colab\"/></a>"
      ]
    },
    {
      "cell_type": "markdown",
      "source": [
        "# Intro to very basic python.\n",
        "\n",
        "### Note: if you already know python you may be tempted to shout \"Yeah, but show them you can also do the cool trick with [...]\". I'd rather you didn't during this class, because the aim is to show like the real, real basics.\n",
        "\n"
      ],
      "metadata": {
        "id": "-9GFCUcnfX3b"
      }
    },
    {
      "cell_type": "markdown",
      "source": [
        "# Printing stuff"
      ],
      "metadata": {
        "id": "FfbeGveRqzHa"
      }
    },
    {
      "cell_type": "code",
      "source": [
        "print(24356.345)"
      ],
      "metadata": {
        "colab": {
          "base_uri": "https://localhost:8080/"
        },
        "id": "8XQTwHljftUx",
        "outputId": "4ed9d4be-8424-40a7-c6b1-a4819ea64cc1"
      },
      "execution_count": null,
      "outputs": [
        {
          "output_type": "stream",
          "name": "stdout",
          "text": [
            "24356.345\n"
          ]
        }
      ]
    },
    {
      "cell_type": "markdown",
      "source": [
        "# Defining variables\n"
      ],
      "metadata": {
        "id": "JY_zWNpAxm5B"
      }
    },
    {
      "cell_type": "code",
      "execution_count": null,
      "metadata": {
        "id": "B-KgCXSFfI-d"
      },
      "outputs": [],
      "source": [
        "# before we start <= this is how you add a comment\n",
        "course_name = \"Linear Algebra for Data Science\" # a string/text\n",
        "course_description = 'hard to say' # single quotes also work\n",
        "room_number = 233\n",
        "expected_mini_lecture_duration_in_min = 15\n",
        "verbosity_factor = 1.73\n",
        "actual_mini_lecture_duration_in_min = verbosity_factor*expected_mini_lecture_duration_in_min\n",
        "is_class_in_progress = False"
      ]
    },
    {
      "cell_type": "code",
      "source": [
        "# we can print-out the values of our variables\n",
        "# print is a function in python3\n",
        "# functions are called as: function_name(argument1, argument2)\n",
        "\n",
        "print(course_name) \n",
        "print(room_number, is_class_in_progress) \n",
        "print(expected_mini_lecture_duration_in_min, actual_mini_lecture_duration_in_min)"
      ],
      "metadata": {
        "id": "Eadr_lh6i7xC",
        "colab": {
          "base_uri": "https://localhost:8080/"
        },
        "outputId": "7b66aecd-c8b7-4029-8a73-1f81ed7f6c03"
      },
      "execution_count": null,
      "outputs": [
        {
          "output_type": "stream",
          "name": "stdout",
          "text": [
            "Linear Algebra for Data Science\n",
            "233 False\n",
            "15 25.95\n"
          ]
        }
      ]
    },
    {
      "cell_type": "code",
      "source": [
        "# ?? add a couple of variables of your own"
      ],
      "metadata": {
        "id": "2XH4WOM-bIVG"
      },
      "execution_count": null,
      "outputs": []
    },
    {
      "cell_type": "code",
      "source": [
        "# the variables are of different types -- but this is determined automatically\n",
        "# (In, say, C++ we would have to explicitly declare the type of each variable.)\n",
        "print(type(course_name))\n",
        "print(type(expected_mini_lecture_duration_in_min))\n",
        "print(type(actual_mini_lecture_duration_in_min))\n",
        "print(type(is_class_in_progress))"
      ],
      "metadata": {
        "id": "Sa1YjhkihzHA",
        "colab": {
          "base_uri": "https://localhost:8080/"
        },
        "outputId": "745b66de-ec5b-4aca-960e-72a78c7b4234"
      },
      "execution_count": null,
      "outputs": [
        {
          "output_type": "stream",
          "name": "stdout",
          "text": [
            "<class 'str'>\n",
            "<class 'int'>\n",
            "<class 'float'>\n",
            "<class 'bool'>\n"
          ]
        }
      ]
    },
    {
      "cell_type": "markdown",
      "source": [
        "# Expressions\n"
      ],
      "metadata": {
        "id": "QNrYswHcd36e"
      }
    },
    {
      "cell_type": "code",
      "source": [
        "room_number + 100 # this expression doesn't really do anything! \n",
        "some_value = room_number + 100 # but we can assign its value\n",
        "some_other_value = 2*some_value\n",
        "print(some_value, some_other_value)\n",
        "print(course_name, room_number) # our old variables should be the same!\n",
        "print(room_number == 233)"
      ],
      "metadata": {
        "id": "AZAGmeFrd4fG"
      },
      "execution_count": null,
      "outputs": []
    },
    {
      "cell_type": "code",
      "source": [
        "print(room_number / 2) # this is different than in python 2\n",
        "print(room_number // 2) # also you cannot skip the parenthesis '(', ')' \n",
        "#print 4 # try me!"
      ],
      "metadata": {
        "id": "DHqg3-j4ik3D"
      },
      "execution_count": null,
      "outputs": []
    },
    {
      "cell_type": "code",
      "source": [
        "# ?? can you try some other combinations? What happens if you multiply\n",
        "# a string by a number? \n",
        "# ?? or add two strings? will it work?\n",
        "# ?? what happens if I divide by zero?\n",
        "# ?? how does the % operator do? \n",
        "# ?? and for negative numbers\n",
        "print(2^3)\n",
        "print(10**30000)\n",
        "print(3%2)\n",
        "print(3==5)\n",
        "print(3==3)\n",
        "print('abc'*(3==3))\n",
        "print(\"It's nice\")"
      ],
      "metadata": {
        "id": "8-XLt46Cblqz"
      },
      "execution_count": null,
      "outputs": []
    },
    {
      "cell_type": "markdown",
      "source": [
        "# Modifying variables"
      ],
      "metadata": {
        "id": "rn3ZEkm6keju"
      }
    },
    {
      "cell_type": "code",
      "source": [
        "some_value = 0\n",
        "x = 5\n",
        "some_value = some_value + 1000*x\n",
        "some_value += 1000\n",
        "some_value *= 2\n",
        "print(some_value//285)"
      ],
      "metadata": {
        "id": "QZGI3rC6j2Uu"
      },
      "execution_count": null,
      "outputs": []
    },
    {
      "cell_type": "code",
      "source": [
        "# ?? try some syntax you know from other languages!\n",
        "# ?? will 'some_value++' work? how about some_value := 3 ?\n",
        "# can I remove a variable??"
      ],
      "metadata": {
        "id": "Oi9VEw-CbwsN"
      },
      "execution_count": null,
      "outputs": []
    },
    {
      "cell_type": "code",
      "source": [
        "a = 0\n",
        "b = a\n",
        "b += 12\n",
        "# ?? b is 12, but did a also change ?"
      ],
      "metadata": {
        "id": "MZJ6AUrzgYy7"
      },
      "execution_count": null,
      "outputs": []
    },
    {
      "cell_type": "markdown",
      "source": [
        "# Conditions"
      ],
      "metadata": {
        "id": "8HjXoqchyBTi"
      }
    },
    {
      "cell_type": "code",
      "source": [
        "if room_number == 233:\n",
        "  print(\"It's okay\") # note print('It's okay') wouldn't work"
      ],
      "metadata": {
        "id": "OhynKlS0yEye"
      },
      "execution_count": null,
      "outputs": []
    },
    {
      "cell_type": "code",
      "source": [
        "# we can add more conditions\n",
        "current_topic = 'python'\n",
        "\n",
        "if room_number == 233 and current_topic == 'topology': # note the and !\n",
        "  print(\"I may be lost :)\")\n",
        "else:\n",
        "  print(\"It seems like a good room\")"
      ],
      "metadata": {
        "id": "5xBfkOLeeXKt"
      },
      "execution_count": null,
      "outputs": []
    },
    {
      "cell_type": "markdown",
      "source": [
        "## Exercise A:\n",
        "\n",
        "k = 5 # you can change this to some other value\n",
        "\n",
        "- now write code which decides to print 'zero', 'positive', 'negative' depending on the sign of the number"
      ],
      "metadata": {
        "id": "We1A_rJQskIz"
      }
    },
    {
      "cell_type": "markdown",
      "source": [
        "Exercise B:\n",
        "\n",
        "- given two numbers $a,b \\in \\mathbb{R}$ print the distance betwen them; eg. for $5,3.5$ print $1.5$.\n"
      ],
      "metadata": {
        "id": "9kENKaEwtMME"
      }
    },
    {
      "cell_type": "markdown",
      "source": [
        "# The below is for next time!"
      ],
      "metadata": {
        "id": "vb4DUEnaCadJ"
      }
    },
    {
      "cell_type": "markdown",
      "source": [
        "# Lists"
      ],
      "metadata": {
        "id": "av-qo2f4gIE-"
      }
    },
    {
      "cell_type": "code",
      "source": [
        "my_list = [2,3,5,8]\n",
        "print(my_list)"
      ],
      "metadata": {
        "id": "ZFJplIGzffsY"
      },
      "execution_count": null,
      "outputs": []
    },
    {
      "cell_type": "code",
      "source": [
        "# we can index \n",
        "print(my_list[0])"
      ],
      "metadata": {
        "collapsed": true,
        "id": "ZN_1XAYxJ2Hz"
      },
      "execution_count": null,
      "outputs": []
    },
    {
      "cell_type": "code",
      "source": [
        "my_list[0] += 2\n",
        "print(my_list)"
      ],
      "metadata": {
        "id": "QYzEaY8jjrbZ"
      },
      "execution_count": null,
      "outputs": []
    },
    {
      "cell_type": "code",
      "source": [
        "# ?? what would happen if you tried to access, say,  my_list[1000]?"
      ],
      "metadata": {
        "id": "YQ7moWODJiAq"
      },
      "execution_count": null,
      "outputs": []
    },
    {
      "cell_type": "code",
      "source": [
        "my_list.append(13) # we can think about 'append' as a function working on my_list\n",
        "print(my_list)"
      ],
      "metadata": {
        "id": "Uh8CdHsLfll0"
      },
      "execution_count": null,
      "outputs": []
    },
    {
      "cell_type": "markdown",
      "source": [
        "#Iteration"
      ],
      "metadata": {
        "id": "b7uX_1H1yhLa"
      }
    },
    {
      "cell_type": "code",
      "source": [
        "my_list = [1,2,3,6,7,4,3]\n",
        "\n",
        "# iterating over lists!\n",
        "for elem in my_list:\n",
        "  print(elem)\n",
        "\n",
        "# BTW: to appreciate it, compare with a related C++ (pre-C++11) version: \n",
        "# for (std::vector<int>::const_iterator it = v.begin(); it != v.end(); ++it) \n",
        "#   std::cout << *it*2 << std::endl;"
      ],
      "metadata": {
        "id": "w51PiagIfqr9"
      },
      "execution_count": null,
      "outputs": []
    },
    {
      "cell_type": "markdown",
      "source": [
        "## range : super useful for iteration!\n",
        "\n",
        "You can think (for now) that range(7) is just a list of numbers (integers) 0,1,...,6\n",
        "\n",
        "You can also write range(3,6), so you get 3,4,5 (but no six!)"
      ],
      "metadata": {
        "id": "w-_xYVRcdCER"
      }
    },
    {
      "cell_type": "code",
      "source": [
        "# will even use this syntax to iterate over 0,1,2,3...\n",
        "\n",
        "for x in range(7):\n",
        "  print(x)\n",
        "\n",
        "# ?? how many elements did we print ??"
      ],
      "metadata": {
        "id": "ETOv9pLgIblt"
      },
      "execution_count": null,
      "outputs": []
    },
    {
      "cell_type": "markdown",
      "source": [
        "# Exercises:\n",
        "\n",
        "- print the even numbers between [0 and 50]\n",
        "\n",
        "- given a list of numbers, print its maximum value (and nothing else)\n",
        "\n",
        "- given a natural number $k$, print all of its divisors\n",
        "\n",
        "- given another natural number $k$, decide if its a prime number\n"
      ],
      "metadata": {
        "id": "LEvOAd3Xcflu"
      }
    }
  ]
}